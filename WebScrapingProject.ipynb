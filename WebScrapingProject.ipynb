{
 "cells": [
  {
   "cell_type": "code",
   "execution_count": 15,
   "id": "b8e268bb",
   "metadata": {},
   "outputs": [],
   "source": [
    "#import libraries\n",
    "from bs4 import BeautifulSoup\n",
    "import requests\n",
    "import string\n",
    "import re\n",
    "import matplotlib.pyplot as plt"
   ]
  },
  {
   "cell_type": "code",
   "execution_count": 16,
   "id": "796cc9db",
   "metadata": {},
   "outputs": [],
   "source": [
    "def DataScrape(url):\n",
    "    #Connect to website\n",
    "    page= requests.get(url)\n",
    "\n",
    "    soup1 = BeautifulSoup(page.content, \"html.parser\")\n",
    "\n",
    "    soup2 = BeautifulSoup(soup1.prettify(), \"html.parser\")\n",
    "    \n",
    "    #Find the title and year of the Special\n",
    "    title=soup2.find('h1').get_text()\n",
    "    title= title.strip()\n",
    "    try:\n",
    "        year = re.search('\\(([^\\)]+)\\)', title).group(1)\n",
    "        \n",
    "    except:\n",
    "        year = None\n",
    "    \n",
    "    location = title.find(':')\n",
    "    comedian = title[0:location]\n",
    "    location1 = title.find('(')\n",
    "    Title = title[location+2:location1]\n",
    "     \n",
    "    #Parse the text of the special\n",
    "    text = soup2.find_all('p')\n",
    "   \n",
    "    #Remove the excess html code\n",
    "    text = re.sub('<[^>]*>', '', str(text))\n",
    "    \n",
    "    #Take out linebreaks\n",
    "    text=text.replace('\\n', ' ')\n",
    "    \n",
    "    #Remove remaining Whitespace\n",
    "    text= re.sub(' {2,}', '', text)\n",
    "    \n",
    "    #Remove all punctuation\n",
    "    text = text.translate(str.maketrans('', '', string.punctuation))\n",
    "    text = text.translate(str.maketrans('', '', \"'\"))\n",
    "    text = text.translate(str.maketrans('', '', '\"'))\n",
    "    text = text.translate(str.maketrans('', '', '-'))\n",
    "    \n",
    "    #Cutoff the ending\n",
    "    location = text.find('Your email address will not be published')\n",
    "    \n",
    "    text = text[0:location-25]\n",
    "    \n",
    "    \n",
    "    #Create Original Dictionary\n",
    "    wordFrequency = CreateWordFrequency(text)\n",
    "    \n",
    "    #Sort Dictionary\n",
    "    sortedDict = {k: v for k, v in sorted(wordFrequency.items(), key=lambda v: v[1], reverse=True)}\n",
    "    \n",
    "    #Get top ten words\n",
    "    topTen = GetTopTen(sortedDict)\n",
    "    \n",
    "    data = [comedian, Title, year, topTen]\n",
    "    return data"
   ]
  },
  {
   "cell_type": "code",
   "execution_count": 17,
   "id": "da108a9b",
   "metadata": {},
   "outputs": [],
   "source": [
    "def GetTopTen(sortedDictionary):\n",
    "    i=0\n",
    "    topTen ={}\n",
    "    for k in sortedDictionary:\n",
    "        if i>9:\n",
    "            break\n",
    "        else:\n",
    "            topTen[k] = sortedDictionary[k]\n",
    "            i=i+1\n",
    "    return topTen"
   ]
  },
  {
   "cell_type": "code",
   "execution_count": 18,
   "id": "206cc1a2",
   "metadata": {},
   "outputs": [],
   "source": [
    "def CreateWordFrequency(text):\n",
    "    wordFrequency = {}\n",
    "    wordBank = text.split()\n",
    "    for word in wordBank:\n",
    "        if word in wordFrequency.keys():\n",
    "            wordFrequency[word] +=1\n",
    "        else: \n",
    "            wordFrequency[word]=1\n",
    "    return wordFrequency"
   ]
  },
  {
   "cell_type": "code",
   "execution_count": 19,
   "id": "f4fab75e",
   "metadata": {},
   "outputs": [],
   "source": [
    "data = DataScrape('https://scrapsfromtheloft.com/comedy/norm-macdonald-hitlers-dog-gossip-trickery-2017-full-transcript/')"
   ]
  },
  {
   "cell_type": "code",
   "execution_count": 24,
   "id": "bddaa543",
   "metadata": {},
   "outputs": [
    {
     "data": {
      "image/png": "[encoded data removed]",
      "text/plain": [
       "<Figure size 432x288 with 1 Axes>"
      ]
     },
     "metadata": {
      "needs_background": "light"
     },
     "output_type": "display_data"
    }
   ],
   "source": [
    "plt.bar(x=data[-1].keys(), height = data[-1].values())\n",
    "plt.title('Top Ten Most Frequent Words in \\'{1}\\' by {0}'.format(data[0], data[1]))\n",
    "plt.show()"
   ]
  },
  {
   "cell_type": "code",
   "execution_count": null,
   "id": "3befc614",
   "metadata": {},
   "outputs": [],
   "source": []
  }
 ],
 "metadata": {
  "kernelspec": {
   "display_name": "Python 3",
   "language": "python",
   "name": "python3"
  },
  "language_info": {
   "codemirror_mode": {
    "name": "ipython",
    "version": 3
   },
   "file_extension": ".py",
   "mimetype": "text/x-python",
   "name": "python",
   "nbconvert_exporter": "python",
   "pygments_lexer": "ipython3",
   "version": "3.8.8"
  }
 },
 "nbformat": 4,
 "nbformat_minor": 5
}
