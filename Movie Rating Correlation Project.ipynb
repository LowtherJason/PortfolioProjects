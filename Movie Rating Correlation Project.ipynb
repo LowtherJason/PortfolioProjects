{
 "cells": [
  {
   "cell_type": "markdown",
   "id": "bd321fc3",
   "metadata": {},
   "source": [
    "# Exploratory Data Analysis on IMDB Movies\n",
    "##### By Jason Lowther"
   ]
  },
  {
   "cell_type": "markdown",
   "id": "bce731d9",
   "metadata": {},
   "source": [
    "In this Notebook I will be exploring the data within the 'IMDB Movies Dataset' found here: https://www.kaggle.com/datasets/harshitshankhdhar/imdb-dataset-of-top-1000-movies-and-tv-shows\n"
   ]
  },
  {
   "cell_type": "markdown",
   "id": "a4ce4c75",
   "metadata": {},
   "source": [
    "## Step 1: Importing the Necessary Packages"
   ]
  },
  {
   "cell_type": "code",
   "execution_count": 100,
   "id": "59c783b8",
   "metadata": {},
   "outputs": [],
   "source": [
    "import pandas as pd\n",
    "import matplotlib.pyplot as plt\n",
    "import seaborn as sns"
   ]
  },
  {
   "cell_type": "markdown",
   "id": "bfcc3ac8",
   "metadata": {},
   "source": [
    "## Step 2: Importing the Dataset and Cleaning"
   ]
  },
  {
   "cell_type": "code",
   "execution_count": 11,
   "id": "fce71772",
   "metadata": {},
   "outputs": [],
   "source": [
    "data = pd.read_csv('C:/Users/jml10/Desktop/Python/Datasets/imdb_top_1000.csv')"
   ]
  },
  {
   "cell_type": "markdown",
   "id": "0029b989",
   "metadata": {},
   "source": [
    "To make sure everything was imported correctly, we can take a quick look at the data with the head method."
   ]
  },
  {
   "cell_type": "code",
   "execution_count": 12,
   "id": "6129939e",
   "metadata": {},
   "outputs": [
    {
     "data": {
      "text/html": [
       "<div>\n",
       "<style scoped>\n",
       "    .dataframe tbody tr th:only-of-type {\n",
       "        vertical-align: middle;\n",
       "    }\n",
       "\n",
       "    .dataframe tbody tr th {\n",
       "        vertical-align: top;\n",
       "    }\n",
       "\n",
       "    .dataframe thead th {\n",
       "        text-align: right;\n",
       "    }\n",
       "</style>\n",
       "<table border=\"1\" class=\"dataframe\">\n",
       "  <thead>\n",
       "    <tr style=\"text-align: right;\">\n",
       "      <th></th>\n",
       "      <th>Poster_Link</th>\n",
       "      <th>Series_Title</th>\n",
       "      <th>Released_Year</th>\n",
       "      <th>Certificate</th>\n",
       "      <th>Runtime</th>\n",
       "      <th>Genre</th>\n",
       "      <th>IMDB_Rating</th>\n",
       "      <th>Overview</th>\n",
       "      <th>Meta_score</th>\n",
       "      <th>Director</th>\n",
       "      <th>Star1</th>\n",
       "      <th>Star2</th>\n",
       "      <th>Star3</th>\n",
       "      <th>Star4</th>\n",
       "      <th>No_of_Votes</th>\n",
       "      <th>Gross</th>\n",
       "    </tr>\n",
       "  </thead>\n",
       "  <tbody>\n",
       "    <tr>\n",
       "      <th>0</th>\n",
       "      <td>https://m.media-amazon.com/images/M/MV5BMDFkYT...</td>\n",
       "      <td>The Shawshank Redemption</td>\n",
       "      <td>1994</td>\n",
       "      <td>A</td>\n",
       "      <td>142 min</td>\n",
       "      <td>Drama</td>\n",
       "      <td>9.3</td>\n",
       "      <td>Two imprisoned men bond over a number of years...</td>\n",
       "      <td>80.0</td>\n",
       "      <td>Frank Darabont</td>\n",
       "      <td>Tim Robbins</td>\n",
       "      <td>Morgan Freeman</td>\n",
       "      <td>Bob Gunton</td>\n",
       "      <td>William Sadler</td>\n",
       "      <td>2343110</td>\n",
       "      <td>28,341,469</td>\n",
       "    </tr>\n",
       "    <tr>\n",
       "      <th>1</th>\n",
       "      <td>https://m.media-amazon.com/images/M/MV5BM2MyNj...</td>\n",
       "      <td>The Godfather</td>\n",
       "      <td>1972</td>\n",
       "      <td>A</td>\n",
       "      <td>175 min</td>\n",
       "      <td>Crime, Drama</td>\n",
       "      <td>9.2</td>\n",
       "      <td>An organized crime dynasty's aging patriarch t...</td>\n",
       "      <td>100.0</td>\n",
       "      <td>Francis Ford Coppola</td>\n",
       "      <td>Marlon Brando</td>\n",
       "      <td>Al Pacino</td>\n",
       "      <td>James Caan</td>\n",
       "      <td>Diane Keaton</td>\n",
       "      <td>1620367</td>\n",
       "      <td>134,966,411</td>\n",
       "    </tr>\n",
       "    <tr>\n",
       "      <th>2</th>\n",
       "      <td>https://m.media-amazon.com/images/M/MV5BMTMxNT...</td>\n",
       "      <td>The Dark Knight</td>\n",
       "      <td>2008</td>\n",
       "      <td>UA</td>\n",
       "      <td>152 min</td>\n",
       "      <td>Action, Crime, Drama</td>\n",
       "      <td>9.0</td>\n",
       "      <td>When the menace known as the Joker wreaks havo...</td>\n",
       "      <td>84.0</td>\n",
       "      <td>Christopher Nolan</td>\n",
       "      <td>Christian Bale</td>\n",
       "      <td>Heath Ledger</td>\n",
       "      <td>Aaron Eckhart</td>\n",
       "      <td>Michael Caine</td>\n",
       "      <td>2303232</td>\n",
       "      <td>534,858,444</td>\n",
       "    </tr>\n",
       "    <tr>\n",
       "      <th>3</th>\n",
       "      <td>https://m.media-amazon.com/images/M/MV5BMWMwMG...</td>\n",
       "      <td>The Godfather: Part II</td>\n",
       "      <td>1974</td>\n",
       "      <td>A</td>\n",
       "      <td>202 min</td>\n",
       "      <td>Crime, Drama</td>\n",
       "      <td>9.0</td>\n",
       "      <td>The early life and career of Vito Corleone in ...</td>\n",
       "      <td>90.0</td>\n",
       "      <td>Francis Ford Coppola</td>\n",
       "      <td>Al Pacino</td>\n",
       "      <td>Robert De Niro</td>\n",
       "      <td>Robert Duvall</td>\n",
       "      <td>Diane Keaton</td>\n",
       "      <td>1129952</td>\n",
       "      <td>57,300,000</td>\n",
       "    </tr>\n",
       "    <tr>\n",
       "      <th>4</th>\n",
       "      <td>https://m.media-amazon.com/images/M/MV5BMWU4N2...</td>\n",
       "      <td>12 Angry Men</td>\n",
       "      <td>1957</td>\n",
       "      <td>U</td>\n",
       "      <td>96 min</td>\n",
       "      <td>Crime, Drama</td>\n",
       "      <td>9.0</td>\n",
       "      <td>A jury holdout attempts to prevent a miscarria...</td>\n",
       "      <td>96.0</td>\n",
       "      <td>Sidney Lumet</td>\n",
       "      <td>Henry Fonda</td>\n",
       "      <td>Lee J. Cobb</td>\n",
       "      <td>Martin Balsam</td>\n",
       "      <td>John Fiedler</td>\n",
       "      <td>689845</td>\n",
       "      <td>4,360,000</td>\n",
       "    </tr>\n",
       "  </tbody>\n",
       "</table>\n",
       "</div>"
      ],
      "text/plain": [
       "                                         Poster_Link  \\\n",
       "0  https://m.media-amazon.com/images/M/MV5BMDFkYT...   \n",
       "1  https://m.media-amazon.com/images/M/MV5BM2MyNj...   \n",
       "2  https://m.media-amazon.com/images/M/MV5BMTMxNT...   \n",
       "3  https://m.media-amazon.com/images/M/MV5BMWMwMG...   \n",
       "4  https://m.media-amazon.com/images/M/MV5BMWU4N2...   \n",
       "\n",
       "               Series_Title Released_Year Certificate  Runtime  \\\n",
       "0  The Shawshank Redemption          1994           A  142 min   \n",
       "1             The Godfather          1972           A  175 min   \n",
       "2           The Dark Knight          2008          UA  152 min   \n",
       "3    The Godfather: Part II          1974           A  202 min   \n",
       "4              12 Angry Men          1957           U   96 min   \n",
       "\n",
       "                  Genre  IMDB_Rating  \\\n",
       "0                 Drama          9.3   \n",
       "1          Crime, Drama          9.2   \n",
       "2  Action, Crime, Drama          9.0   \n",
       "3          Crime, Drama          9.0   \n",
       "4          Crime, Drama          9.0   \n",
       "\n",
       "                                            Overview  Meta_score  \\\n",
       "0  Two imprisoned men bond over a number of years...        80.0   \n",
       "1  An organized crime dynasty's aging patriarch t...       100.0   \n",
       "2  When the menace known as the Joker wreaks havo...        84.0   \n",
       "3  The early life and career of Vito Corleone in ...        90.0   \n",
       "4  A jury holdout attempts to prevent a miscarria...        96.0   \n",
       "\n",
       "               Director           Star1           Star2          Star3  \\\n",
       "0        Frank Darabont     Tim Robbins  Morgan Freeman     Bob Gunton   \n",
       "1  Francis Ford Coppola   Marlon Brando       Al Pacino     James Caan   \n",
       "2     Christopher Nolan  Christian Bale    Heath Ledger  Aaron Eckhart   \n",
       "3  Francis Ford Coppola       Al Pacino  Robert De Niro  Robert Duvall   \n",
       "4          Sidney Lumet     Henry Fonda     Lee J. Cobb  Martin Balsam   \n",
       "\n",
       "            Star4  No_of_Votes        Gross  \n",
       "0  William Sadler      2343110   28,341,469  \n",
       "1    Diane Keaton      1620367  134,966,411  \n",
       "2   Michael Caine      2303232  534,858,444  \n",
       "3    Diane Keaton      1129952   57,300,000  \n",
       "4    John Fiedler       689845    4,360,000  "
      ]
     },
     "execution_count": 12,
     "metadata": {},
     "output_type": "execute_result"
    }
   ],
   "source": [
    "data.head()"
   ]
  },
  {
   "cell_type": "code",
   "execution_count": 60,
   "id": "c16589b8",
   "metadata": {},
   "outputs": [
    {
     "data": {
      "text/plain": [
       "Poster_Link       object\n",
       "Series_Title      object\n",
       "Released_Year     object\n",
       "Certificate       object\n",
       "Runtime           object\n",
       "Genre             object\n",
       "IMDB_Rating      float64\n",
       "Overview          object\n",
       "Meta_score       float64\n",
       "Director          object\n",
       "Star1             object\n",
       "Star2             object\n",
       "Star3             object\n",
       "Star4             object\n",
       "No_of_Votes        int64\n",
       "Gross             object\n",
       "dtype: object"
      ]
     },
     "execution_count": 60,
     "metadata": {},
     "output_type": "execute_result"
    }
   ],
   "source": [
    "#Check if any type conversions need to be done\n",
    "data.dtypes"
   ]
  },
  {
   "cell_type": "markdown",
   "id": "049bbb16",
   "metadata": {},
   "source": [
    "## Step 3: Explore the Rating Systems"
   ]
  },
  {
   "cell_type": "markdown",
   "id": "b4950fe7",
   "metadata": {},
   "source": [
    "This dataset offers two avenues to determine which film is the best: we are given IMDB Rating and Meta score rating. Luckily, the data is already sorted by the top IMDB rating, as shown above, and so we now need to sort by the top Metacritic rating. Unfortunately, Metacritic ratings are not as common as IMDB ratings, so we must first create a new dataframe using the films with a Metascore."
   ]
  },
  {
   "cell_type": "code",
   "execution_count": 19,
   "id": "d7ce00c1",
   "metadata": {},
   "outputs": [
    {
     "data": {
      "text/html": [
       "<div>\n",
       "<style scoped>\n",
       "    .dataframe tbody tr th:only-of-type {\n",
       "        vertical-align: middle;\n",
       "    }\n",
       "\n",
       "    .dataframe tbody tr th {\n",
       "        vertical-align: top;\n",
       "    }\n",
       "\n",
       "    .dataframe thead th {\n",
       "        text-align: right;\n",
       "    }\n",
       "</style>\n",
       "<table border=\"1\" class=\"dataframe\">\n",
       "  <thead>\n",
       "    <tr style=\"text-align: right;\">\n",
       "      <th></th>\n",
       "      <th>Poster_Link</th>\n",
       "      <th>Series_Title</th>\n",
       "      <th>Released_Year</th>\n",
       "      <th>Certificate</th>\n",
       "      <th>Runtime</th>\n",
       "      <th>Genre</th>\n",
       "      <th>IMDB_Rating</th>\n",
       "      <th>Overview</th>\n",
       "      <th>Meta_score</th>\n",
       "      <th>Director</th>\n",
       "      <th>Star1</th>\n",
       "      <th>Star2</th>\n",
       "      <th>Star3</th>\n",
       "      <th>Star4</th>\n",
       "      <th>No_of_Votes</th>\n",
       "      <th>Gross</th>\n",
       "    </tr>\n",
       "  </thead>\n",
       "  <tbody>\n",
       "    <tr>\n",
       "      <th>440</th>\n",
       "      <td>https://m.media-amazon.com/images/M/MV5BMjE5NT...</td>\n",
       "      <td>Sweet Smell of Success</td>\n",
       "      <td>1957</td>\n",
       "      <td>Approved</td>\n",
       "      <td>96 min</td>\n",
       "      <td>Drama, Film-Noir</td>\n",
       "      <td>8.0</td>\n",
       "      <td>Powerful but unethical Broadway columnist J.J....</td>\n",
       "      <td>100.0</td>\n",
       "      <td>Alexander Mackendrick</td>\n",
       "      <td>Burt Lancaster</td>\n",
       "      <td>Tony Curtis</td>\n",
       "      <td>Susan Harrison</td>\n",
       "      <td>Martin Milner</td>\n",
       "      <td>28137</td>\n",
       "      <td>NaN</td>\n",
       "    </tr>\n",
       "    <tr>\n",
       "      <th>81</th>\n",
       "      <td>https://m.media-amazon.com/images/M/MV5BNGUxYW...</td>\n",
       "      <td>Rear Window</td>\n",
       "      <td>1954</td>\n",
       "      <td>U</td>\n",
       "      <td>112 min</td>\n",
       "      <td>Mystery, Thriller</td>\n",
       "      <td>8.4</td>\n",
       "      <td>A wheelchair-bound photographer spies on his n...</td>\n",
       "      <td>100.0</td>\n",
       "      <td>Alfred Hitchcock</td>\n",
       "      <td>James Stewart</td>\n",
       "      <td>Grace Kelly</td>\n",
       "      <td>Wendell Corey</td>\n",
       "      <td>Thelma Ritter</td>\n",
       "      <td>444074</td>\n",
       "      <td>36,764,313</td>\n",
       "    </tr>\n",
       "    <tr>\n",
       "      <th>50</th>\n",
       "      <td>https://m.media-amazon.com/images/M/MV5BY2IzZG...</td>\n",
       "      <td>Casablanca</td>\n",
       "      <td>1942</td>\n",
       "      <td>U</td>\n",
       "      <td>102 min</td>\n",
       "      <td>Drama, Romance, War</td>\n",
       "      <td>8.5</td>\n",
       "      <td>A cynical expatriate American cafe owner strug...</td>\n",
       "      <td>100.0</td>\n",
       "      <td>Michael Curtiz</td>\n",
       "      <td>Humphrey Bogart</td>\n",
       "      <td>Ingrid Bergman</td>\n",
       "      <td>Paul Henreid</td>\n",
       "      <td>Claude Rains</td>\n",
       "      <td>522093</td>\n",
       "      <td>1,024,560</td>\n",
       "    </tr>\n",
       "    <tr>\n",
       "      <th>260</th>\n",
       "      <td>https://m.media-amazon.com/images/M/MV5BYTg1Mm...</td>\n",
       "      <td>Trois couleurs: Rouge</td>\n",
       "      <td>1994</td>\n",
       "      <td>U</td>\n",
       "      <td>99 min</td>\n",
       "      <td>Drama, Mystery, Romance</td>\n",
       "      <td>8.1</td>\n",
       "      <td>A model discovers a retired judge is keen on i...</td>\n",
       "      <td>100.0</td>\n",
       "      <td>Krzysztof Kieslowski</td>\n",
       "      <td>Irène Jacob</td>\n",
       "      <td>Jean-Louis Trintignant</td>\n",
       "      <td>Frédérique Feder</td>\n",
       "      <td>Jean-Pierre Lorit</td>\n",
       "      <td>90729</td>\n",
       "      <td>4,043,686</td>\n",
       "    </tr>\n",
       "    <tr>\n",
       "      <th>559</th>\n",
       "      <td>https://m.media-amazon.com/images/M/MV5BYTc1NG...</td>\n",
       "      <td>Notorious</td>\n",
       "      <td>1946</td>\n",
       "      <td>U</td>\n",
       "      <td>102 min</td>\n",
       "      <td>Drama, Film-Noir, Romance</td>\n",
       "      <td>7.9</td>\n",
       "      <td>A woman is asked to spy on a group of Nazi fri...</td>\n",
       "      <td>100.0</td>\n",
       "      <td>Alfred Hitchcock</td>\n",
       "      <td>Cary Grant</td>\n",
       "      <td>Ingrid Bergman</td>\n",
       "      <td>Claude Rains</td>\n",
       "      <td>Louis Calhern</td>\n",
       "      <td>92306</td>\n",
       "      <td>10,464,000</td>\n",
       "    </tr>\n",
       "    <tr>\n",
       "      <th>...</th>\n",
       "      <td>...</td>\n",
       "      <td>...</td>\n",
       "      <td>...</td>\n",
       "      <td>...</td>\n",
       "      <td>...</td>\n",
       "      <td>...</td>\n",
       "      <td>...</td>\n",
       "      <td>...</td>\n",
       "      <td>...</td>\n",
       "      <td>...</td>\n",
       "      <td>...</td>\n",
       "      <td>...</td>\n",
       "      <td>...</td>\n",
       "      <td>...</td>\n",
       "      <td>...</td>\n",
       "      <td>...</td>\n",
       "    </tr>\n",
       "    <tr>\n",
       "      <th>735</th>\n",
       "      <td>https://m.media-amazon.com/images/M/MV5BMTgwNT...</td>\n",
       "      <td>Kai po che!</td>\n",
       "      <td>2013</td>\n",
       "      <td>U</td>\n",
       "      <td>130 min</td>\n",
       "      <td>Drama, Sport</td>\n",
       "      <td>7.7</td>\n",
       "      <td>Three friends growing up in India at the turn ...</td>\n",
       "      <td>40.0</td>\n",
       "      <td>Abhishek Kapoor</td>\n",
       "      <td>Amit Sadh</td>\n",
       "      <td>Sushant Singh Rajput</td>\n",
       "      <td>Rajkummar Rao</td>\n",
       "      <td>Amrita Puri</td>\n",
       "      <td>32628</td>\n",
       "      <td>1,122,527</td>\n",
       "    </tr>\n",
       "    <tr>\n",
       "      <th>917</th>\n",
       "      <td>https://m.media-amazon.com/images/M/MV5BMTU0Nz...</td>\n",
       "      <td>Seven Pounds</td>\n",
       "      <td>2008</td>\n",
       "      <td>UA</td>\n",
       "      <td>123 min</td>\n",
       "      <td>Drama</td>\n",
       "      <td>7.6</td>\n",
       "      <td>A man with a fateful secret embarks on an extr...</td>\n",
       "      <td>36.0</td>\n",
       "      <td>Gabriele Muccino</td>\n",
       "      <td>Will Smith</td>\n",
       "      <td>Rosario Dawson</td>\n",
       "      <td>Woody Harrelson</td>\n",
       "      <td>Michael Ealy</td>\n",
       "      <td>286770</td>\n",
       "      <td>69,951,824</td>\n",
       "    </tr>\n",
       "    <tr>\n",
       "      <th>356</th>\n",
       "      <td>https://m.media-amazon.com/images/M/MV5BYmI1OD...</td>\n",
       "      <td>Tropa de Elite</td>\n",
       "      <td>2007</td>\n",
       "      <td>R</td>\n",
       "      <td>115 min</td>\n",
       "      <td>Action, Crime, Drama</td>\n",
       "      <td>8.0</td>\n",
       "      <td>In 1997 Rio de Janeiro, Captain Nascimento has...</td>\n",
       "      <td>33.0</td>\n",
       "      <td>José Padilha</td>\n",
       "      <td>Wagner Moura</td>\n",
       "      <td>André Ramiro</td>\n",
       "      <td>Caio Junqueira</td>\n",
       "      <td>Milhem Cortaz</td>\n",
       "      <td>98097</td>\n",
       "      <td>8,060</td>\n",
       "    </tr>\n",
       "    <tr>\n",
       "      <th>942</th>\n",
       "      <td>https://m.media-amazon.com/images/M/MV5BODNiZm...</td>\n",
       "      <td>The Butterfly Effect</td>\n",
       "      <td>2004</td>\n",
       "      <td>U</td>\n",
       "      <td>113 min</td>\n",
       "      <td>Drama, Sci-Fi, Thriller</td>\n",
       "      <td>7.6</td>\n",
       "      <td>Evan Treborn suffers blackouts during signific...</td>\n",
       "      <td>30.0</td>\n",
       "      <td>Eric Bress</td>\n",
       "      <td>J. Mackye Gruber</td>\n",
       "      <td>Ashton Kutcher</td>\n",
       "      <td>Amy Smart</td>\n",
       "      <td>Melora Walters</td>\n",
       "      <td>451479</td>\n",
       "      <td>57,938,693</td>\n",
       "    </tr>\n",
       "    <tr>\n",
       "      <th>788</th>\n",
       "      <td>https://m.media-amazon.com/images/M/MV5BYzEyNz...</td>\n",
       "      <td>I Am Sam</td>\n",
       "      <td>2001</td>\n",
       "      <td>PG-13</td>\n",
       "      <td>132 min</td>\n",
       "      <td>Drama</td>\n",
       "      <td>7.7</td>\n",
       "      <td>A mentally handicapped man fights for custody ...</td>\n",
       "      <td>28.0</td>\n",
       "      <td>Jessie Nelson</td>\n",
       "      <td>Sean Penn</td>\n",
       "      <td>Michelle Pfeiffer</td>\n",
       "      <td>Dakota Fanning</td>\n",
       "      <td>Dianne Wiest</td>\n",
       "      <td>142863</td>\n",
       "      <td>40,311,852</td>\n",
       "    </tr>\n",
       "  </tbody>\n",
       "</table>\n",
       "<p>843 rows × 16 columns</p>\n",
       "</div>"
      ],
      "text/plain": [
       "                                           Poster_Link  \\\n",
       "440  https://m.media-amazon.com/images/M/MV5BMjE5NT...   \n",
       "81   https://m.media-amazon.com/images/M/MV5BNGUxYW...   \n",
       "50   https://m.media-amazon.com/images/M/MV5BY2IzZG...   \n",
       "260  https://m.media-amazon.com/images/M/MV5BYTg1Mm...   \n",
       "559  https://m.media-amazon.com/images/M/MV5BYTc1NG...   \n",
       "..                                                 ...   \n",
       "735  https://m.media-amazon.com/images/M/MV5BMTgwNT...   \n",
       "917  https://m.media-amazon.com/images/M/MV5BMTU0Nz...   \n",
       "356  https://m.media-amazon.com/images/M/MV5BYmI1OD...   \n",
       "942  https://m.media-amazon.com/images/M/MV5BODNiZm...   \n",
       "788  https://m.media-amazon.com/images/M/MV5BYzEyNz...   \n",
       "\n",
       "               Series_Title Released_Year Certificate  Runtime  \\\n",
       "440  Sweet Smell of Success          1957    Approved   96 min   \n",
       "81              Rear Window          1954           U  112 min   \n",
       "50               Casablanca          1942           U  102 min   \n",
       "260   Trois couleurs: Rouge          1994           U   99 min   \n",
       "559               Notorious          1946           U  102 min   \n",
       "..                      ...           ...         ...      ...   \n",
       "735             Kai po che!          2013           U  130 min   \n",
       "917            Seven Pounds          2008          UA  123 min   \n",
       "356          Tropa de Elite          2007           R  115 min   \n",
       "942    The Butterfly Effect          2004           U  113 min   \n",
       "788                I Am Sam          2001       PG-13  132 min   \n",
       "\n",
       "                         Genre  IMDB_Rating  \\\n",
       "440           Drama, Film-Noir          8.0   \n",
       "81           Mystery, Thriller          8.4   \n",
       "50         Drama, Romance, War          8.5   \n",
       "260    Drama, Mystery, Romance          8.1   \n",
       "559  Drama, Film-Noir, Romance          7.9   \n",
       "..                         ...          ...   \n",
       "735               Drama, Sport          7.7   \n",
       "917                      Drama          7.6   \n",
       "356       Action, Crime, Drama          8.0   \n",
       "942    Drama, Sci-Fi, Thriller          7.6   \n",
       "788                      Drama          7.7   \n",
       "\n",
       "                                              Overview  Meta_score  \\\n",
       "440  Powerful but unethical Broadway columnist J.J....       100.0   \n",
       "81   A wheelchair-bound photographer spies on his n...       100.0   \n",
       "50   A cynical expatriate American cafe owner strug...       100.0   \n",
       "260  A model discovers a retired judge is keen on i...       100.0   \n",
       "559  A woman is asked to spy on a group of Nazi fri...       100.0   \n",
       "..                                                 ...         ...   \n",
       "735  Three friends growing up in India at the turn ...        40.0   \n",
       "917  A man with a fateful secret embarks on an extr...        36.0   \n",
       "356  In 1997 Rio de Janeiro, Captain Nascimento has...        33.0   \n",
       "942  Evan Treborn suffers blackouts during signific...        30.0   \n",
       "788  A mentally handicapped man fights for custody ...        28.0   \n",
       "\n",
       "                  Director             Star1                   Star2  \\\n",
       "440  Alexander Mackendrick    Burt Lancaster             Tony Curtis   \n",
       "81        Alfred Hitchcock     James Stewart             Grace Kelly   \n",
       "50          Michael Curtiz   Humphrey Bogart          Ingrid Bergman   \n",
       "260   Krzysztof Kieslowski       Irène Jacob  Jean-Louis Trintignant   \n",
       "559       Alfred Hitchcock        Cary Grant          Ingrid Bergman   \n",
       "..                     ...               ...                     ...   \n",
       "735        Abhishek Kapoor         Amit Sadh    Sushant Singh Rajput   \n",
       "917       Gabriele Muccino        Will Smith          Rosario Dawson   \n",
       "356           José Padilha      Wagner Moura            André Ramiro   \n",
       "942             Eric Bress  J. Mackye Gruber          Ashton Kutcher   \n",
       "788          Jessie Nelson         Sean Penn       Michelle Pfeiffer   \n",
       "\n",
       "                Star3              Star4  No_of_Votes       Gross  \n",
       "440    Susan Harrison      Martin Milner        28137         NaN  \n",
       "81      Wendell Corey      Thelma Ritter       444074  36,764,313  \n",
       "50       Paul Henreid       Claude Rains       522093   1,024,560  \n",
       "260  Frédérique Feder  Jean-Pierre Lorit        90729   4,043,686  \n",
       "559      Claude Rains      Louis Calhern        92306  10,464,000  \n",
       "..                ...                ...          ...         ...  \n",
       "735     Rajkummar Rao        Amrita Puri        32628   1,122,527  \n",
       "917   Woody Harrelson       Michael Ealy       286770  69,951,824  \n",
       "356    Caio Junqueira      Milhem Cortaz        98097       8,060  \n",
       "942         Amy Smart     Melora Walters       451479  57,938,693  \n",
       "788    Dakota Fanning       Dianne Wiest       142863  40,311,852  \n",
       "\n",
       "[843 rows x 16 columns]"
      ]
     },
     "execution_count": 19,
     "metadata": {},
     "output_type": "execute_result"
    }
   ],
   "source": [
    "data_Metascore = data[data['Meta_score'].notnull()]\n",
    "data_Metascore.sort_values('Meta_score', ascending=False)"
   ]
  },
  {
   "cell_type": "markdown",
   "id": "c601a5bd",
   "metadata": {},
   "source": [
    "Already, it seems like the Metascore is a more forgiving metric than the IMDB Rating, just by how many 100s there are. How many are there exactly, and what are their titles?"
   ]
  },
  {
   "cell_type": "code",
   "execution_count": 36,
   "id": "09132a09",
   "metadata": {},
   "outputs": [
    {
     "name": "stdout",
     "output_type": "stream",
     "text": [
      "Number of perfect movies:  12\n"
     ]
    },
    {
     "data": {
      "text/plain": [
       "440    Sweet Smell of Success\n",
       "81                Rear Window\n",
       "50                 Casablanca\n",
       "260     Trois couleurs: Rouge\n",
       "559                 Notorious\n",
       "274       Fanny och Alexander\n",
       "423            Il conformista\n",
       "1               The Godfather\n",
       "491                   Boyhood\n",
       "124              Citizen Kane\n",
       "119                   Vertigo\n",
       "116        Lawrence of Arabia\n",
       "Name: Series_Title, dtype: object"
      ]
     },
     "execution_count": 36,
     "metadata": {},
     "output_type": "execute_result"
    }
   ],
   "source": [
    "print('Number of perfect movies: ',data_Metascore['Meta_score'].value_counts()[100.0])\n",
    "data_Metascore.sort_values('Meta_score', ascending = False).Series_Title.head(12)"
   ]
  },
  {
   "cell_type": "markdown",
   "id": "788b749d",
   "metadata": {},
   "source": [
    "### Is Metacritic a more forgiving metric than IMDB? \n",
    "It will be difficult to say for sure, but for starters we can certainly find more information. Let's begin with gathering some basic statistics for both rating systems. Note: there are no null values in the IMDB Rating column."
   ]
  },
  {
   "cell_type": "code",
   "execution_count": 83,
   "id": "8125cbaf",
   "metadata": {},
   "outputs": [
    {
     "data": {
      "text/plain": [
       "count    843.000000\n",
       "mean       7.931673\n",
       "std        0.283732\n",
       "min        7.600000\n",
       "25%        7.700000\n",
       "50%        7.900000\n",
       "75%        8.100000\n",
       "max        9.300000\n",
       "Name: IMDB_Rating, dtype: float64"
      ]
     },
     "execution_count": 83,
     "metadata": {},
     "output_type": "execute_result"
    }
   ],
   "source": [
    "data_Metascore['IMDB_Rating'].describe()"
   ]
  },
  {
   "cell_type": "code",
   "execution_count": 42,
   "id": "536e17a7",
   "metadata": {},
   "outputs": [
    {
     "data": {
      "text/plain": [
       "count    843.000000\n",
       "mean       7.797153\n",
       "std        1.237610\n",
       "min        2.800000\n",
       "25%        7.000000\n",
       "50%        7.900000\n",
       "75%        8.700000\n",
       "max       10.000000\n",
       "Name: Meta_score, dtype: float64"
      ]
     },
     "execution_count": 42,
     "metadata": {},
     "output_type": "execute_result"
    }
   ],
   "source": [
    "data_Metascore['Meta_score'].apply(lambda x:x/10).describe()"
   ]
  },
  {
   "cell_type": "markdown",
   "id": "8e28363c",
   "metadata": {},
   "source": [
    "After adjusting the data to be on the same scale, we can see that the average score for IMDB Ratings are actually *higher* than the Metacritic scores. This makes sense to an extent, since this data set is the top 1000 of IMDB ratings, not the top 1000 of Metacritic scores."
   ]
  },
  {
   "cell_type": "code",
   "execution_count": 79,
   "id": "7d2f4939",
   "metadata": {},
   "outputs": [
    {
     "name": "stdout",
     "output_type": "stream",
     "text": [
      "The worst Metacritic movie is: I Am Sam\n",
      "The IMDB Rating of I Am Sam is 7.7\n"
     ]
    }
   ],
   "source": [
    "Worst_Movie = data_Metascore[data_Metascore['Meta_score']==28]\n",
    "print('The worst Metacritic movie is: {}'.format(Worst_Movie['Series_Title'].values[0]))\n",
    "print('The IMDB Rating of {} is {}'.format((Worst_Movie['Series_Title'].values[0]), Worst_Movie['IMDB_Rating'].values[0]))"
   ]
  },
  {
   "cell_type": "markdown",
   "id": "fddd0485",
   "metadata": {},
   "source": [
    "This is a *huge* difference of rating."
   ]
  },
  {
   "cell_type": "markdown",
   "id": "e85f7bee",
   "metadata": {},
   "source": [
    "## Step 4: Is there a correlation between IMDB Ratings and Metascores?"
   ]
  },
  {
   "cell_type": "code",
   "execution_count": 89,
   "id": "87110da4",
   "metadata": {},
   "outputs": [
    {
     "data": {
      "image/png": "[encoded data removed]",
      "text/plain": [
       "<Figure size 432x288 with 1 Axes>"
      ]
     },
     "metadata": {
      "needs_background": "light"
     },
     "output_type": "display_data"
    }
   ],
   "source": [
    "sns.regplot(x='IMDB_Rating', y='Meta_score', data=data_Metascore, scatter_kws = {'color':'red'}, line_kws={'color':'blue'})\n",
    "plt.title('IMDB Rating vs Metascore')\n",
    "plt.xlabel('IMDB Rating')\n",
    "plt.ylabel('Metascore')\n",
    "plt.show()"
   ]
  },
  {
   "cell_type": "code",
   "execution_count": 95,
   "id": "25e2ece4",
   "metadata": {},
   "outputs": [
    {
     "data": {
      "text/html": [
       "<div>\n",
       "<style scoped>\n",
       "    .dataframe tbody tr th:only-of-type {\n",
       "        vertical-align: middle;\n",
       "    }\n",
       "\n",
       "    .dataframe tbody tr th {\n",
       "        vertical-align: top;\n",
       "    }\n",
       "\n",
       "    .dataframe thead th {\n",
       "        text-align: right;\n",
       "    }\n",
       "</style>\n",
       "<table border=\"1\" class=\"dataframe\">\n",
       "  <thead>\n",
       "    <tr style=\"text-align: right;\">\n",
       "      <th></th>\n",
       "      <th>IMDB_Rating</th>\n",
       "      <th>Meta_score</th>\n",
       "      <th>No_of_Votes</th>\n",
       "    </tr>\n",
       "  </thead>\n",
       "  <tbody>\n",
       "    <tr>\n",
       "      <th>IMDB_Rating</th>\n",
       "      <td>1.000000</td>\n",
       "      <td>0.268531</td>\n",
       "      <td>0.586664</td>\n",
       "    </tr>\n",
       "    <tr>\n",
       "      <th>Meta_score</th>\n",
       "      <td>0.268531</td>\n",
       "      <td>1.000000</td>\n",
       "      <td>-0.018507</td>\n",
       "    </tr>\n",
       "    <tr>\n",
       "      <th>No_of_Votes</th>\n",
       "      <td>0.586664</td>\n",
       "      <td>-0.018507</td>\n",
       "      <td>1.000000</td>\n",
       "    </tr>\n",
       "  </tbody>\n",
       "</table>\n",
       "</div>"
      ],
      "text/plain": [
       "             IMDB_Rating  Meta_score  No_of_Votes\n",
       "IMDB_Rating     1.000000    0.268531     0.586664\n",
       "Meta_score      0.268531    1.000000    -0.018507\n",
       "No_of_Votes     0.586664   -0.018507     1.000000"
      ]
     },
     "execution_count": 95,
     "metadata": {},
     "output_type": "execute_result"
    }
   ],
   "source": [
    "data_Metascore.corr()"
   ]
  },
  {
   "cell_type": "code",
   "execution_count": 99,
   "id": "1c253f61",
   "metadata": {},
   "outputs": [
    {
     "data": {
      "text/plain": [
       "Text(0.5, 1.0, 'Correlation Matrix for Numeric Features')"
      ]
     },
     "execution_count": 99,
     "metadata": {},
     "output_type": "execute_result"
    },
    {
     "data": {
      "image/png": "[encoded data removed]",
      "text/plain": [
       "<Figure size 432x288 with 2 Axes>"
      ]
     },
     "metadata": {
      "needs_background": "light"
     },
     "output_type": "display_data"
    }
   ],
   "source": [
    "correlation_matrix = data_Metascore.corr()\n",
    "sns.heatmap(correlation_matrix, annot=True)\n",
    "\n",
    "plt.title('Correlation Matrix for Numeric Features')"
   ]
  },
  {
   "cell_type": "markdown",
   "id": "fbcbcec3",
   "metadata": {},
   "source": [
    "Now *this* is interesting. The IMDB Ratings and Metscores are positively correlated, however the correlation is fairly weak. It seems as if the critics at IMDB and the critics at Metacritic agree mostly on which movies are good, however *how good* is up for interpretation. Also, the Metascore is essentially noncorrelated with the Number of Votes a movie gets - meaning the Metascore differs from public opinion much more than the IMDB Rating. "
   ]
  },
  {
   "cell_type": "code",
   "execution_count": null,
   "id": "695db388",
   "metadata": {},
   "outputs": [],
   "source": []
  }
 ],
 "metadata": {
  "kernelspec": {
   "display_name": "Python 3",
   "language": "python",
   "name": "python3"
  },
  "language_info": {
   "codemirror_mode": {
    "name": "ipython",
    "version": 3
   },
   "file_extension": ".py",
   "mimetype": "text/x-python",
   "name": "python",
   "nbconvert_exporter": "python",
   "pygments_lexer": "ipython3",
   "version": "3.8.8"
  }
 },
 "nbformat": 4,
 "nbformat_minor": 5
}
